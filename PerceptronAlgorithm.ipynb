{
  "nbformat": 4,
  "nbformat_minor": 0,
  "metadata": {
    "colab": {
      "provenance": [],
      "toc_visible": true
    },
    "kernelspec": {
      "name": "python3",
      "display_name": "Python 3"
    },
    "language_info": {
      "name": "python"
    }
  },
  "cells": [
    {
      "cell_type": "markdown",
      "source": [
        "# **Import the libraries**"
      ],
      "metadata": {
        "id": "JoZ3kQug8mXp"
      }
    },
    {
      "cell_type": "code",
      "execution_count": 27,
      "metadata": {
        "id": "QjOaDahR731W"
      },
      "outputs": [],
      "source": [
        "# Import libraries\n",
        "from sklearn import datasets\n",
        "from sklearn.model_selection import train_test_split\n",
        "from sklearn.linear_model import Perceptron\n",
        "from sklearn.metrics import accuracy_score"
      ]
    },
    {
      "cell_type": "markdown",
      "source": [
        "# **Step 1: Load the data and store the labels in a variable x and target in variable y**"
      ],
      "metadata": {
        "id": "DrDBUWGO8pY1"
      }
    },
    {
      "cell_type": "code",
      "source": [
        "iris_dataset = datasets.load_iris()                   # load the iris dataset\n",
        "X = iris_dataset.data[:, [2,3]]                       # load the data in indices 2 and 3 (petal length and petal width) into the variable X\n",
        "y = iris_dataset.target                               # loads the target data into variable y"
      ],
      "metadata": {
        "id": "Fc7AXGI58kAB"
      },
      "execution_count": 28,
      "outputs": []
    },
    {
      "cell_type": "markdown",
      "source": [
        "# **Step 2: Split the dataset into a training set and test set**"
      ],
      "metadata": {
        "id": "LLgAKVZPXacZ"
      }
    },
    {
      "cell_type": "code",
      "source": [
        "X_train, X_test, y_train, y_test = train_test_split(X, y, test_size=0.3) # splitting the data into training data and testing data"
      ],
      "metadata": {
        "id": "TyZtHw35XoN6"
      },
      "execution_count": 29,
      "outputs": []
    },
    {
      "cell_type": "markdown",
      "source": [
        "# **Step 3: Create the model**"
      ],
      "metadata": {
        "id": "H7Wgce9gYBee"
      }
    },
    {
      "cell_type": "code",
      "source": [
        "perceptron_model = Perceptron(max_iter=3, tol=1e-3, eta0=0.001, fit_intercept=True, random_state=0, verbose=True) # create the model"
      ],
      "metadata": {
        "id": "l1Z7_pBGX9-2"
      },
      "execution_count": 30,
      "outputs": []
    },
    {
      "cell_type": "markdown",
      "source": [
        "# **Step 4: train the model**\n",
        "\n"
      ],
      "metadata": {
        "id": "A3XDZCJcYpwp"
      }
    },
    {
      "cell_type": "code",
      "source": [
        "perceptron_model.fit(X_train, y_train)            # train the model on training data"
      ],
      "metadata": {
        "colab": {
          "base_uri": "https://localhost:8080/",
          "height": 598
        },
        "id": "3uT2h-0lYtNV",
        "outputId": "a77b455b-bfff-4d1e-8a6d-dc02baeda5d7"
      },
      "execution_count": 35,
      "outputs": [
        {
          "output_type": "stream",
          "name": "stdout",
          "text": [
            "-- Epoch 1\n",
            "Norm: 0.00, NNZs: 2, Bias: 0.006000, T: 105, Avg. loss: 0.000355\n",
            "Total training time: 0.00 seconds.\n",
            "-- Epoch 2\n",
            "Norm: 0.00, NNZs: 2, Bias: 0.006000, T: 210, Avg. loss: 0.000000\n",
            "Total training time: 0.00 seconds.\n",
            "-- Epoch 3\n",
            "Norm: 0.00, NNZs: 2, Bias: 0.006000, T: 315, Avg. loss: 0.000000\n",
            "Total training time: 0.00 seconds.\n",
            "-- Epoch 1\n",
            "Norm: 0.01, NNZs: 2, Bias: -0.005000, T: 105, Avg. loss: 0.004338\n",
            "Total training time: 0.00 seconds.\n",
            "-- Epoch 2\n",
            "Norm: 0.00, NNZs: 2, Bias: -0.006000, T: 210, Avg. loss: 0.004950\n",
            "Total training time: 0.00 seconds.\n",
            "-- Epoch 3\n",
            "Norm: 0.01, NNZs: 2, Bias: -0.005000, T: 315, Avg. loss: 0.004482\n",
            "Total training time: 0.00 seconds.\n",
            "-- Epoch 1\n",
            "Norm: 0.01, NNZs: 2, Bias: -0.009000, T: 105, Avg. loss: 0.004151\n",
            "Total training time: 0.00 seconds.\n",
            "-- Epoch 2\n",
            "Norm: 0.01, NNZs: 2, Bias: -0.012000, T: 210, Avg. loss: 0.002193\n",
            "Total training time: 0.00 seconds.\n",
            "-- Epoch 3\n",
            "Norm: 0.01, NNZs: 2, Bias: -0.014000, T: 315, Avg. loss: 0.002173\n",
            "Total training time: 0.00 seconds.\n"
          ]
        },
        {
          "output_type": "stream",
          "name": "stderr",
          "text": [
            "/usr/local/lib/python3.10/dist-packages/sklearn/linear_model/_stochastic_gradient.py:702: ConvergenceWarning: Maximum number of iteration reached before convergence. Consider increasing max_iter to improve the fit.\n",
            "  warnings.warn(\n"
          ]
        },
        {
          "output_type": "execute_result",
          "data": {
            "text/plain": [
              "Perceptron(eta0=0.001, max_iter=3, verbose=True)"
            ],
            "text/html": [
              "<style>#sk-container-id-5 {color: black;background-color: white;}#sk-container-id-5 pre{padding: 0;}#sk-container-id-5 div.sk-toggleable {background-color: white;}#sk-container-id-5 label.sk-toggleable__label {cursor: pointer;display: block;width: 100%;margin-bottom: 0;padding: 0.3em;box-sizing: border-box;text-align: center;}#sk-container-id-5 label.sk-toggleable__label-arrow:before {content: \"▸\";float: left;margin-right: 0.25em;color: #696969;}#sk-container-id-5 label.sk-toggleable__label-arrow:hover:before {color: black;}#sk-container-id-5 div.sk-estimator:hover label.sk-toggleable__label-arrow:before {color: black;}#sk-container-id-5 div.sk-toggleable__content {max-height: 0;max-width: 0;overflow: hidden;text-align: left;background-color: #f0f8ff;}#sk-container-id-5 div.sk-toggleable__content pre {margin: 0.2em;color: black;border-radius: 0.25em;background-color: #f0f8ff;}#sk-container-id-5 input.sk-toggleable__control:checked~div.sk-toggleable__content {max-height: 200px;max-width: 100%;overflow: auto;}#sk-container-id-5 input.sk-toggleable__control:checked~label.sk-toggleable__label-arrow:before {content: \"▾\";}#sk-container-id-5 div.sk-estimator input.sk-toggleable__control:checked~label.sk-toggleable__label {background-color: #d4ebff;}#sk-container-id-5 div.sk-label input.sk-toggleable__control:checked~label.sk-toggleable__label {background-color: #d4ebff;}#sk-container-id-5 input.sk-hidden--visually {border: 0;clip: rect(1px 1px 1px 1px);clip: rect(1px, 1px, 1px, 1px);height: 1px;margin: -1px;overflow: hidden;padding: 0;position: absolute;width: 1px;}#sk-container-id-5 div.sk-estimator {font-family: monospace;background-color: #f0f8ff;border: 1px dotted black;border-radius: 0.25em;box-sizing: border-box;margin-bottom: 0.5em;}#sk-container-id-5 div.sk-estimator:hover {background-color: #d4ebff;}#sk-container-id-5 div.sk-parallel-item::after {content: \"\";width: 100%;border-bottom: 1px solid gray;flex-grow: 1;}#sk-container-id-5 div.sk-label:hover label.sk-toggleable__label {background-color: #d4ebff;}#sk-container-id-5 div.sk-serial::before {content: \"\";position: absolute;border-left: 1px solid gray;box-sizing: border-box;top: 0;bottom: 0;left: 50%;z-index: 0;}#sk-container-id-5 div.sk-serial {display: flex;flex-direction: column;align-items: center;background-color: white;padding-right: 0.2em;padding-left: 0.2em;position: relative;}#sk-container-id-5 div.sk-item {position: relative;z-index: 1;}#sk-container-id-5 div.sk-parallel {display: flex;align-items: stretch;justify-content: center;background-color: white;position: relative;}#sk-container-id-5 div.sk-item::before, #sk-container-id-5 div.sk-parallel-item::before {content: \"\";position: absolute;border-left: 1px solid gray;box-sizing: border-box;top: 0;bottom: 0;left: 50%;z-index: -1;}#sk-container-id-5 div.sk-parallel-item {display: flex;flex-direction: column;z-index: 1;position: relative;background-color: white;}#sk-container-id-5 div.sk-parallel-item:first-child::after {align-self: flex-end;width: 50%;}#sk-container-id-5 div.sk-parallel-item:last-child::after {align-self: flex-start;width: 50%;}#sk-container-id-5 div.sk-parallel-item:only-child::after {width: 0;}#sk-container-id-5 div.sk-dashed-wrapped {border: 1px dashed gray;margin: 0 0.4em 0.5em 0.4em;box-sizing: border-box;padding-bottom: 0.4em;background-color: white;}#sk-container-id-5 div.sk-label label {font-family: monospace;font-weight: bold;display: inline-block;line-height: 1.2em;}#sk-container-id-5 div.sk-label-container {text-align: center;}#sk-container-id-5 div.sk-container {/* jupyter's `normalize.less` sets `[hidden] { display: none; }` but bootstrap.min.css set `[hidden] { display: none !important; }` so we also need the `!important` here to be able to override the default hidden behavior on the sphinx rendered scikit-learn.org. See: https://github.com/scikit-learn/scikit-learn/issues/21755 */display: inline-block !important;position: relative;}#sk-container-id-5 div.sk-text-repr-fallback {display: none;}</style><div id=\"sk-container-id-5\" class=\"sk-top-container\"><div class=\"sk-text-repr-fallback\"><pre>Perceptron(eta0=0.001, max_iter=3, verbose=True)</pre><b>In a Jupyter environment, please rerun this cell to show the HTML representation or trust the notebook. <br />On GitHub, the HTML representation is unable to render, please try loading this page with nbviewer.org.</b></div><div class=\"sk-container\" hidden><div class=\"sk-item\"><div class=\"sk-estimator sk-toggleable\"><input class=\"sk-toggleable__control sk-hidden--visually\" id=\"sk-estimator-id-5\" type=\"checkbox\" checked><label for=\"sk-estimator-id-5\" class=\"sk-toggleable__label sk-toggleable__label-arrow\">Perceptron</label><div class=\"sk-toggleable__content\"><pre>Perceptron(eta0=0.001, max_iter=3, verbose=True)</pre></div></div></div></div></div>"
            ]
          },
          "metadata": {},
          "execution_count": 35
        }
      ]
    },
    {
      "cell_type": "markdown",
      "source": [
        "# **Step 5: Test the model**"
      ],
      "metadata": {
        "id": "PV5zPT5DZF1W"
      }
    },
    {
      "cell_type": "code",
      "source": [
        "y_predict = perceptron_model.predict(X_test)      # test the model on test data"
      ],
      "metadata": {
        "id": "xfYTkSJ5ZIKE"
      },
      "execution_count": 36,
      "outputs": []
    },
    {
      "cell_type": "markdown",
      "source": [
        "# **Step 6: Evaluate the model**"
      ],
      "metadata": {
        "id": "y73O0HeLZmVp"
      }
    },
    {
      "cell_type": "code",
      "source": [
        "accuracy = accuracy_score(y_test, y_predict) # determine accuracy\n",
        "accuracy = accuracy * 100 # convert to percentage\n",
        "\n",
        "# print the results\n",
        "print(\"\\nAccuracy of model: \" + str(round(accuracy,2)) + \"%\\n\") # print accuracy"
      ],
      "metadata": {
        "colab": {
          "base_uri": "https://localhost:8080/"
        },
        "id": "3QlUOxcZZprN",
        "outputId": "bd89d7b0-0624-4190-ae1d-663e95c3fcaa"
      },
      "execution_count": 37,
      "outputs": [
        {
          "output_type": "stream",
          "name": "stdout",
          "text": [
            "\n",
            "Accuracy of model: 68.89%\n",
            "\n"
          ]
        }
      ]
    },
    {
      "cell_type": "markdown",
      "source": [
        "# **Show some examples of flowers indentificated by the program**"
      ],
      "metadata": {
        "id": "6zbMDrYRI0wy"
      }
    },
    {
      "cell_type": "code",
      "source": [
        "# Map target labels to species names for better readability\n",
        "species = {0: 'setosa', 1: 'versicolor', 2: 'virginica'}\n",
        "\n",
        "# Print some examples of predictions along with actual labels\n",
        "print(\"Examples of flower identification:\\n\")\n",
        "for i in range(10):  # Show 10 examples\n",
        "    print(f\"Sample {i+1}:\")\n",
        "    print(f\"  Predicted: {species[y_predict[i]]}\")\n",
        "    print(f\"  Actual: {species[y_test[i]]}\")\n",
        "    print(f\"  Features (petal length, petal width): {X_test[i]}\")\n",
        "    print()"
      ],
      "metadata": {
        "colab": {
          "base_uri": "https://localhost:8080/"
        },
        "id": "gVNeyUFOIpoH",
        "outputId": "50d7b691-81fe-4460-e0d1-d5d18375ddbf"
      },
      "execution_count": 34,
      "outputs": [
        {
          "output_type": "stream",
          "name": "stdout",
          "text": [
            "Examples of flower identification:\n",
            "\n",
            "Sample 1:\n",
            "  Predicted: virginica\n",
            "  Actual: virginica\n",
            "  Features (petal length, petal width): [5.6 2.1]\n",
            "\n",
            "Sample 2:\n",
            "  Predicted: virginica\n",
            "  Actual: virginica\n",
            "  Features (petal length, petal width): [5.1 2. ]\n",
            "\n",
            "Sample 3:\n",
            "  Predicted: virginica\n",
            "  Actual: virginica\n",
            "  Features (petal length, petal width): [5.1 1.5]\n",
            "\n",
            "Sample 4:\n",
            "  Predicted: virginica\n",
            "  Actual: virginica\n",
            "  Features (petal length, petal width): [5.1 2.3]\n",
            "\n",
            "Sample 5:\n",
            "  Predicted: virginica\n",
            "  Actual: versicolor\n",
            "  Features (petal length, petal width): [4.2 1.2]\n",
            "\n",
            "Sample 6:\n",
            "  Predicted: virginica\n",
            "  Actual: versicolor\n",
            "  Features (petal length, petal width): [4.1 1.3]\n",
            "\n",
            "Sample 7:\n",
            "  Predicted: setosa\n",
            "  Actual: setosa\n",
            "  Features (petal length, petal width): [1.4 0.2]\n",
            "\n",
            "Sample 8:\n",
            "  Predicted: virginica\n",
            "  Actual: versicolor\n",
            "  Features (petal length, petal width): [3.3 1. ]\n",
            "\n",
            "Sample 9:\n",
            "  Predicted: setosa\n",
            "  Actual: setosa\n",
            "  Features (petal length, petal width): [1.2 0.2]\n",
            "\n",
            "Sample 10:\n",
            "  Predicted: virginica\n",
            "  Actual: virginica\n",
            "  Features (petal length, petal width): [6.7 2. ]\n",
            "\n"
          ]
        }
      ]
    }
  ]
}